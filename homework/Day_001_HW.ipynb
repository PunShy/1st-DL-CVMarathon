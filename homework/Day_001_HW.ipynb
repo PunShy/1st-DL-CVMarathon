{
 "cells": [
  {
   "cell_type": "markdown",
   "metadata": {},
   "source": [
    "# 作業\n",
    "\n",
    "思考一下我們前面有提到圖片是矩陣，但維度可能會不一樣\n",
    "例如灰階圖只有兩個維度，RGB 彩圖則有 3 個維度\n",
    "\n",
    "假如今天我們把 RGB 3 個維度拆開來看會有甚麼不同的效果呢？"
   ]
  },
  {
   "cell_type": "code",
   "execution_count": 1,
   "metadata": {},
   "outputs": [],
   "source": [
    "import cv2\n",
    "import numpy as np\n",
    "\n",
    "imgPath=r\"D:\\Downloads\\Python\\OpenCV\\day1\\Part01\\lena.png\"\n",
    "\n",
    "img=cv2.imread(imgPath, cv2.IMREAD_COLOR)\n",
    " \n",
    "# 把圖片合併起來方便一起看， 只拿每個維度的資料\n",
    "# img_concat = np.hstack((img[:, :, 0], img[:, :, 1], img[:, :, 2]))\n",
    "# cv2.imshow('img_concat',img_concat)\n",
    "\n",
    "# 只顯示 B G R 三色的圖\n",
    "# blue = img.copy()\n",
    "# blue[:,:,1] = 0\n",
    "# blue[:,:,2] = 0\n",
    "# green = img.copy()\n",
    "# green[:,:,0] = 0\n",
    "# green[:,:,2] = 0\n",
    "# red = img.copy()\n",
    "# red[:,:,0] = 0\n",
    "# red[:,:,1] = 0\n",
    "# cv2.imshow('blueWin',blue)\n",
    "# cv2.imshow('greenWin',green)\n",
    "# cv2.imshow('redWin',red)\n",
    "\n",
    "#因每個維度(BGR)中的每個值代表一個pixel，且為 0 ~ 255 之間的\"明暗色\"。\n",
    "#所以單獨取出其中一個維度時會出現只有灰色的圖。   例如上方第一個區塊的程式碼結果。\n",
    "#如果是整張圖但是把另兩色值都給0(暗色)，則只會顯示剩下的顏色。   例如上方第二個區塊的程式碼結果。\n",
    "\n",
    "k=cv2.waitKey(0)\n",
    "if k ==27:\n",
    "    cv2.destroyAllWindows()\n",
    "    "
   ]
  },
  {
   "cell_type": "code",
   "execution_count": null,
   "metadata": {},
   "outputs": [],
   "source": []
  }
 ],
 "metadata": {
  "kernelspec": {
   "display_name": "Python 3",
   "language": "python",
   "name": "python3"
  },
  "language_info": {
   "codemirror_mode": {
    "name": "ipython",
    "version": 3
   },
   "file_extension": ".py",
   "mimetype": "text/x-python",
   "name": "python",
   "nbconvert_exporter": "python",
   "pygments_lexer": "ipython3",
   "version": "3.7.4"
  }
 },
 "nbformat": 4,
 "nbformat_minor": 2
}